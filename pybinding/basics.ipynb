{
 "cells": [
  {
   "cell_type": "markdown",
   "metadata": {},
   "source": [
    "# Paper tutorial"
   ]
  },
  {
   "cell_type": "code",
   "execution_count": null,
   "metadata": {},
   "outputs": [],
   "source": [
    "import pybinding as pb\n",
    "import matplotlib.pyplot as plt\n",
    "import numpy as np\n",
    "import scipy\n",
    "\n",
    "from matplotlib import gridspec\n",
    "\n",
    "pb.pltutils.use_style()"
   ]
  },
  {
   "cell_type": "markdown",
   "metadata": {
    "pycharm": {
     "name": "#%% md\n"
    }
   },
   "source": [
    "## Graphene lattice"
   ]
  },
  {
   "cell_type": "code",
   "execution_count": null,
   "metadata": {
    "pycharm": {
     "name": "#%%\n"
    }
   },
   "outputs": [],
   "source": [
    "def monolayer_graphene():\n",
    "    from math import sqrt\n",
    "    a = 0.24595  # [nm] unit cell length\n",
    "    a_cc = 0.142 # [nm] carbon-carbon distance\n",
    "    t = -2.8     # [eV] nearest neighbour pz-pz hopping\n",
    "    # create a lattice with 2 primitive vectors\n",
    "    lat = pb.Lattice(\n",
    "        a1=[a, 0],\n",
    "        a2=[a/2, a/2*sqrt(3)])\n",
    "    # add orbitals 'A' and 'B' (sublattices)\n",
    "    lat.add_sublattices(\n",
    "        ('A', [0, -a_cc/2]),\n",
    "        ('B', [0,  a_cc/2]))\n",
    "    # add hoppings\n",
    "    lat.add_hoppings(\n",
    "        # inside the main cell\n",
    "        ([0,  0], 'A', 'B', t),\n",
    "        # between neighbouring cells\n",
    "        ([1, -1], 'A', 'B', t),\n",
    "        ([0, -1], 'A', 'B', t))\n",
    "    return lat"
   ]
  },
  {
   "cell_type": "code",
   "execution_count": null,
   "metadata": {
    "pycharm": {
     "name": "#%%\n"
    }
   },
   "outputs": [],
   "source": [
    "fig = plt.figure(figsize=(3, 3))\n",
    "lat = monolayer_graphene()\n",
    "lat.plot()"
   ]
  },
  {
   "cell_type": "code",
   "execution_count": null,
   "metadata": {
    "pycharm": {
     "name": "#%%\n"
    }
   },
   "outputs": [],
   "source": [
    "fig = plt.figure(figsize=(3, 3))\n",
    "lat.plot_brillouin_zone()\n",
    "plt.xlim([-30, 30])\n",
    "plt.xticks([-20, 0, 20])"
   ]
  },
  {
   "cell_type": "code",
   "execution_count": null,
   "metadata": {
    "pycharm": {
     "name": "#%%\n"
    }
   },
   "outputs": [],
   "source": [
    "fig = plt.figure(figsize=(3, 3))\n",
    "model = pb.Model(lat, pb.translational_symmetry(a1=True, a2=True))\n",
    "model.plot()"
   ]
  },
  {
   "cell_type": "code",
   "execution_count": null,
   "metadata": {
    "pycharm": {
     "name": "#%%\n"
    }
   },
   "outputs": [],
   "source": [
    "# Simple shapes\n",
    "rectangle = pb.rectangle(x=6, y=1)\n",
    "hexagon = pb.regular_polygon(num_sides=6, radius=1.92, angle=np.pi/6)\n",
    "circle = pb.circle(radius=0.6)\n",
    "\n",
    "# Compose them naturally\n",
    "shape = rectangle + hexagon - circle\n",
    "\n",
    "fig = plt.figure(figsize=(3, 3))\n",
    "model = pb.Model(lat, shape)\n",
    "model.shape.plot()\n",
    "model.plot()\n",
    "plt.xlim([-3,3])\n",
    "plt.xticks([-2, 0, 2])"
   ]
  },
  {
   "cell_type": "code",
   "execution_count": null,
   "metadata": {
    "pycharm": {
     "name": "#%%\n"
    }
   },
   "outputs": [],
   "source": [
    "from pybinding.repository import graphene\n",
    "model = pb.Model(\n",
    "    graphene.monolayer_4atom(),\n",
    "    pb.rectangle(x=2, y=2),\n",
    "    pb.translational_symmetry(a1=1.2, a2=False)\n",
    ")\n",
    "\n",
    "fig = plt.figure(figsize=(3, 3))\n",
    "model.plot()"
   ]
  },
  {
   "cell_type": "markdown",
   "metadata": {
    "pycharm": {
     "name": "#%% md\n"
    }
   },
   "source": [
    "# Potential"
   ]
  },
  {
   "cell_type": "code",
   "execution_count": null,
   "metadata": {
    "pycharm": {
     "name": "#%%\n"
    }
   },
   "outputs": [],
   "source": [
    "@pb.onsite_energy_modifier\n",
    "def potential(x, y):\n",
    "    return np.sin(x)**2 + np.cos(y)**2\n",
    "\n",
    "from pybinding.constants import phi0\n",
    "from math import pi\n",
    "def constant_magnetic_field(B):\n",
    "    @pb.hopping_energy_modifier\n",
    "    def function(energy, x1, y1, x2, y2):\n",
    "        # the midpoint between two sites\n",
    "        y = 0.5 * (y1 + y2)\n",
    "        # scale from nanometers to meters\n",
    "        y *= 1e-9\n",
    "\n",
    "        # vector potential along the x-axis\n",
    "        A_x = B * y\n",
    "\n",
    "        # integral of (A * dl) from position 1 to position 2\n",
    "        peierls = A_x * (x1 - x2)\n",
    "        # scale from nanometers to meters (because of x1 and x2)\n",
    "        peierls *= 1e-9\n",
    "\n",
    "        # the Peierls substitution\n",
    "        return energy * np.exp(1j * 2*pi/phi0 * peierls)\n",
    "    return function"
   ]
  },
  {
   "cell_type": "code",
   "execution_count": null,
   "metadata": {
    "pycharm": {
     "name": "#%%\n"
    }
   },
   "outputs": [],
   "source": [
    "from pybinding.repository import graphene\n",
    "\n",
    "model = pb.Model(\n",
    "    graphene.monolayer(),\n",
    "    pb.rectangle(12),\n",
    "    potential\n",
    ")\n",
    "\n",
    "fig = plt.figure(figsize=(3, 3))\n",
    "model.onsite_map.plot_contourf()"
   ]
  },
  {
   "cell_type": "code",
   "execution_count": null,
   "metadata": {
    "pycharm": {
     "name": "#%%\n"
    }
   },
   "outputs": [],
   "source": [
    "import random\n",
    "def random_vacancies(concentration):\n",
    "    \"\"\" Add random vacancies to the sample based on the concentration parameter\n",
    "        every time script is ran a different configuration will be defined\n",
    "    \"\"\"\n",
    "\n",
    "    @pb.site_state_modifier(min_neighbors=2)  # limit the number of neighbours for each site, removes dangling sites\n",
    "    def modifier(state):\n",
    "        # total number of states\n",
    "        total_num = len(state)\n",
    "        # number of vacancies based on the concentration\n",
    "        vacanc_num = int(concentration / 100 * total_num)\n",
    "\n",
    "        # seed random number generator with randint\n",
    "        np.random.seed(random.randint(0, 2 ** 32 - 1))\n",
    "        # generate vacanc_num integer values that would specify vacant sites, [0, total_num - 1]\n",
    "        vacant_sites = np.random.randint(0, total_num, vacanc_num)\n",
    "        # remove these sites\n",
    "        state[vacant_sites] = False\n",
    "        return state\n",
    "\n",
    "    return modifier\n",
    "\n",
    "model = pb.Model(\n",
    "    graphene.monolayer(),\n",
    "    pb.rectangle(6),\n",
    "    random_vacancies(1)\n",
    ")"
   ]
  },
  {
   "cell_type": "code",
   "execution_count": null,
   "metadata": {
    "pycharm": {
     "name": "#%%\n"
    }
   },
   "outputs": [],
   "source": [
    "fig = plt.figure(figsize=(3, 3))\n",
    "model.plot()\n",
    "plt.xlim([-3, 3])\n",
    "plt.ylim([-3, 3])\n",
    "plt.xticks([-2, 0, 2])"
   ]
  },
  {
   "cell_type": "code",
   "execution_count": null,
   "metadata": {
    "pycharm": {
     "name": "#%%\n"
    }
   },
   "outputs": [],
   "source": [
    "def triaxial_displacement(c):\n",
    "    @pb.site_position_modifier\n",
    "    def displacement(x, y, z):\n",
    "        ux = 2*c * x*y\n",
    "        uy = c * (x**2 - y**2)\n",
    "        return x + ux, y + uy, z\n",
    "    return displacement\n",
    "\n",
    "model = pb.Model(\n",
    "    graphene.monolayer(),\n",
    "    pb.rectangle(6),\n",
    "    triaxial_displacement(0.04)\n",
    ")"
   ]
  },
  {
   "cell_type": "code",
   "execution_count": null,
   "metadata": {
    "pycharm": {
     "name": "#%%\n"
    }
   },
   "outputs": [],
   "source": [
    "fig = plt.figure(figsize=(3, 3))\n",
    "model.plot()\n",
    "plt.xlim([-4, 4])\n",
    "plt.ylim([-4, 4])\n",
    "plt.xticks([-2, 0, 2])\n",
    "plt.yticks([-2, 0, 2])"
   ]
  },
  {
   "cell_type": "markdown",
   "metadata": {
    "pycharm": {
     "name": "#%% md\n"
    }
   },
   "source": [
    "# Borophene\n"
   ]
  },
  {
   "cell_type": "code",
   "execution_count": null,
   "metadata": {
    "pycharm": {
     "name": "#%%\n"
    }
   },
   "outputs": [],
   "source": [
    "model = pb.Model(\n",
    "    graphene.monolayer(),\n",
    "    pb.rectangle(6)\n",
    ")\n",
    "\n",
    "fig = plt.figure(figsize=(3, 3))\n",
    "solver = pb.solver.arpack(model, k=20)  # for the 20 lowest energy eigenvalues\n",
    "eigenvalues = solver.calc_eigenvalues()\n",
    "eigenvalues.plot()"
   ]
  },
  {
   "cell_type": "code",
   "execution_count": null,
   "metadata": {
    "pycharm": {
     "name": "#%%\n"
    }
   },
   "outputs": [],
   "source": [
    "fig = plt.figure(figsize=(3, 3))\n",
    "ldos_map = solver.calc_spatial_ldos(energy=0, broadening=0.05)  # [eV]\n",
    "ldos_map.plot()\n",
    "plt.xlim([-3, 3])\n",
    "plt.ylim([-3, 3])\n",
    "plt.yticks([-2, 0, 2])\n",
    "plt.xticks([-2, 0, 2])"
   ]
  }
 ],
 "metadata": {
  "kernelspec": {
   "display_name": "Python 3",
   "language": "python",
   "name": "python3"
  },
  "language_info": {
   "codemirror_mode": {
    "name": "ipython",
    "version": 3
   },
   "file_extension": ".py",
   "mimetype": "text/x-python",
   "name": "python",
   "nbconvert_exporter": "python",
   "pygments_lexer": "ipython3",
   "version": "3.8.3"
  }
 },
 "nbformat": 4,
 "nbformat_minor": 1
}
