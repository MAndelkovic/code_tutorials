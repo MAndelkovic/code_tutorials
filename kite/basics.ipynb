{
 "cells": [
  {
   "cell_type": "markdown",
   "metadata": {},
   "source": [
    "# Paper tutorial"
   ]
  },
  {
   "cell_type": "code",
   "execution_count": null,
   "metadata": {},
   "outputs": [],
   "source": [
    "import pybinding as pb\n",
    "import matplotlib.pyplot as plt\n",
    "import numpy as np\n",
    "import scipy\n",
    "import os\n",
    "import shutil\n",
    "import subprocess\n",
    "import kite\n",
    "from matplotlib import gridspec\n",
    "\n",
    "pb.pltutils.use_style()"
   ]
  },
  {
   "cell_type": "markdown",
   "metadata": {},
   "source": [
    "## Square lattice"
   ]
  },
  {
   "cell_type": "code",
   "execution_count": null,
   "metadata": {},
   "outputs": [],
   "source": [
    "def square_lattice(onsite=(0, 0)):\n",
    "    \"\"\"Make a square lattice with nearest neighbor hopping\"\"\"\n",
    "\n",
    "    a1 = np.array([1, 0])\n",
    "    a2 = np.array([0, 1])\n",
    "    # create a lattice with 2 primitive vectors\n",
    "    lat = pb.Lattice(\n",
    "        a1=a1, a2=a2\n",
    "    )\n",
    "    # Add sublattices\n",
    "    lat.add_sublattices(\n",
    "        # name, position, and onsite potential\n",
    "        ('A', [0, 0], onsite[0])\n",
    "    )\n",
    "    # Add hoppings\n",
    "    lat.add_hoppings(\n",
    "        ([1, 0], 'A', 'A', - 1),\n",
    "        ([0, 1], 'A', 'A', - 1)\n",
    "    )\n",
    "    return lat"
   ]
  },
  {
   "cell_type": "code",
   "execution_count": null,
   "metadata": {},
   "outputs": [],
   "source": [
    "lattice = square_lattice()\n",
    "# number of decomposition parts\n",
    "n1 = n2 = 1\n",
    "# number of unit cells in each direction.\n",
    "l1 = l2 = 512\n",
    "# number of polynomials\n",
    "num_moments = 256\n",
    "configuration = kite.Configuration(divisions=[n1, n2], length=[l1, l2], boundaries=[True, True],\n",
    "                                   is_complex=False, precision=1)\n",
    "# require the calculation of singleshot_conductivity_dc\n",
    "calculation = kite.Calculation(configuration)\n",
    "direction = 'xx'\n",
    "calculation.dos(num_points=1000, num_moments=256, num_random=10, num_disorder=1)\n",
    "calculation.conductivity_dc(num_points=1000, num_moments=num_moments, num_random=1, num_disorder=1,\n",
    "                            direction=direction, temperature=1)\n",
    "# configure the *.h5 file\n",
    "filename = 'cond_dos_square_lat.h5'\n",
    "kite.config_system(lattice, configuration, calculation, filename=filename)"
   ]
  },
  {
   "cell_type": "code",
   "execution_count": null,
   "metadata": {},
   "outputs": [],
   "source": [
    "pb.utils.tic()  # measure the time\n",
    "kite.KITEx(filename)\n",
    "pb.utils.toc('Time for moments calculation ')\n",
    "\n",
    "pb.utils.tic()  # measure the time\n",
    "kite.KITEtools(filename + ' --CondDC -T 300 -F -4 4 10000 -E 4000 -K green 0.01 -N condDC_{}.dat'.format(direction))\n",
    "kite.KITEtools(filename + ' --DOS -F -3 3 1000 -K green 0.01 -N dos.dat')\n",
    "pb.utils.toc('Time for reconstructing ')"
   ]
  },
  {
   "cell_type": "code",
   "execution_count": null,
   "metadata": {},
   "outputs": [],
   "source": [
    "dos_raw = np.loadtxt('dos.dat')\n",
    "cond_raw = np.loadtxt('condDC_{}.dat'.format(direction))\n",
    "\n",
    "plt.figure()\n",
    "ax1 = plt.gca()\n",
    "ax1.plot(cond_raw[:,0], cond_raw[:,1])\n",
    "ax1.set_xlabel(r'$\\mathrm{E~(eV)}$')\n",
    "ax1.set_ylabel(r'$\\mathrm{\\sigma_{xx}~(e^2/h)}$')\n",
    "\n",
    "ax2 = ax1.twinx()  # instantiate a second axes that shares the same x-axis\n",
    "ax2.plot(dos_raw[:,0], dos_raw[:,1], c='C1')\n",
    "plt.sca(ax2)\n",
    "ax2.tick_params(axis='y', labelcolor='C1')\n",
    "ax2.set_ylabel(r'$\\mathrm{DOS~(a.u.)}$')"
   ]
  },
  {
   "cell_type": "markdown",
   "metadata": {
    "pycharm": {
     "name": "#%% md\n"
    }
   },
   "source": [
    "## Graphene in magnetic field"
   ]
  },
  {
   "cell_type": "code",
   "execution_count": null,
   "metadata": {
    "pycharm": {
     "name": "#%%\n"
    }
   },
   "outputs": [],
   "source": [
    "from pybinding.repository import graphene\n",
    "from math import sqrt\n",
    "a = 0.24595  # [nm] unit cell length\n",
    "a_cc = 0.142 # [nm] carbon-carbon distance\n",
    "t = -2.8     # [eV] nearest neighbour pz-pz hopping\n",
    "\n",
    "def monolayer_4atom(onsite=(0, 0)):\n",
    "    \"\"\"Nearest-neighbor with 4 atoms per unit cell: square lattice instead of oblique\n",
    "\n",
    "    Parameters\n",
    "    ----------\n",
    "    onsite : Tuple[float, float]\n",
    "        Onsite energy for sublattices A and B.\n",
    "    \"\"\"\n",
    "\n",
    "    lat = pb.Lattice(a1=[a, 0], a2=[0, 3*a_cc])\n",
    "\n",
    "    lat.add_sublattices(('A',  [  0, -a_cc/2], onsite[0]),\n",
    "                        ('B',  [  0,  a_cc/2], onsite[1]),\n",
    "                        ('C', [a / 2, a_cc], onsite[0]),\n",
    "                        ('D', [a / 2, 2 * a_cc], onsite[1]))\n",
    "\n",
    "    lat.add_hoppings(\n",
    "        # inside the unit sell\n",
    "        ([0, 0], 'A',  'B',  t),\n",
    "        ([0, 0], 'B',  'C', t),\n",
    "        ([0, 0], 'C', 'D', t),\n",
    "        # between neighbouring unit cells\n",
    "        ([-1, -1], 'A', 'D', t),\n",
    "        ([ 0, -1], 'A', 'D', t),\n",
    "        ([-1,  0], 'B', 'C', t),\n",
    "    )\n",
    "\n",
    "    lat.min_neighbors = 2\n",
    "    return lat\n",
    "\n",
    "lat = monolayer_4atom()\n",
    "bfield = 154.19\n",
    "modification = kite.Modification(magnetic_field=bfield)\n",
    "disorder = kite.Disorder(lat)\n",
    "dis_std = 0.4\n",
    "disorder.add_disorder('A', 'Uniform', +0.0, dis_std)\n",
    "disorder.add_disorder('B', 'Uniform', +0.0, dis_std)\n",
    "disorder.add_disorder('C', 'Uniform', +0.0, dis_std)\n",
    "disorder.add_disorder('D', 'Uniform', +0.0, dis_std)\n",
    "\n",
    "lx = 256\n",
    "ly = 256\n",
    "\n",
    "domain_decompose_1 = 2\n",
    "domain_decompose_2 = 2\n",
    "\n",
    "num_moments = 256\n",
    "emin, emax = -3.02 * np.abs(t) - dis_std * sqrt(6), 3.02 * np.abs(t) + dis_std * sqrt(6)\n",
    "configuration = kite.Configuration(divisions=[domain_decompose_1, domain_decompose_2], length=[lx, ly],\n",
    "                                   boundaries=[True, True], is_complex=True, precision=1, spectrum_range=[emin, emax])\n",
    "\n",
    "calculation = kite.Calculation(configuration)\n",
    "direction = 'xy'\n",
    "num_random = 1\n",
    "calculation.dos(num_points=1000, num_moments=num_moments, num_random=num_random, num_disorder=1)\n",
    "calculation.conductivity_dc(direction=direction, num_points=1000, num_moments=num_moments, num_random=num_random, num_disorder=1)\n",
    "\n",
    "name = 'cond_{}_magn_{:.2f}T_dis_std_{:.1f}_moments_{}_random_{}_lx_{}_ly_{}.h5'\n",
    "# configure the *.h5 file\n",
    "full_name = name.format(direction, bfield, dis_std, num_moments, num_random, lx, ly)\n",
    "kite.config_system(lat, configuration, calculation, modification=modification, filename=full_name, disorder=disorder)"
   ]
  },
  {
   "cell_type": "code",
   "execution_count": null,
   "metadata": {
    "pycharm": {
     "name": "#%%\n"
    }
   },
   "outputs": [],
   "source": [
    "pb.utils.tic()  # measure the time\n",
    "kite.KITEx(full_name)\n",
    "pb.utils.toc('Time for moments calculation ')\n",
    "\n",
    "pb.utils.tic()  # measure the time\n",
    "kite.KITEtools(full_name + ' --CondDC -T 50 -F -0.5 0.5 10000 -E 4000 -K green 0.01 -N condDC_gr_magn_{}.dat'.format(direction))\n",
    "kite.KITEtools(full_name + ' --DOS -F -0.5 0.5 100 -K green 0.01 -N dos_gr_magn.dat')\n",
    "pb.utils.toc('Time for reconstructing ')"
   ]
  },
  {
   "cell_type": "code",
   "execution_count": null,
   "metadata": {
    "pycharm": {
     "name": "#%%\n"
    }
   },
   "outputs": [],
   "source": [
    "from pybinding.constants import hbar\n",
    "from pybinding.repository import graphene\n",
    "from math import sqrt\n",
    "\n",
    "def landau_level(magnetic_field: float, n: int):\n",
    "    \"\"\" Calculate the energy of Landau level n in the given magnetic field. \"\"\"\n",
    "    lb = sqrt(hbar / magnetic_field)\n",
    "    return hbar * (graphene.vf * 10 ** -9) / lb * sqrt(2 * n)\n",
    "\n",
    "\n",
    "cond = np.loadtxt('condDC_gr_magn_{}.dat'.format(direction))\n",
    "dos_raw = np.loadtxt('dos_gr_magn.dat')\n",
    "\n",
    "plt.plot(cond[:,0], cond[:,1], c='C0')\n",
    "\n",
    "ax1 = plt.gca()\n",
    "y_max = 8\n",
    "\n",
    "for i in np.arange(-5, 5, 1):\n",
    "    ell = landau_level(magnetic_field=bfield, n=np.abs(i))\n",
    "    ax1.plot((ell, ell), (-y_max, y_max), '--k', alpha=0.1)\n",
    "    ax1.plot((-ell, -ell), (-y_max, y_max), '--k', alpha=0.1)\n",
    "\n",
    "plt.yticks(np.linspace(-y_max, y_max, 9))\n",
    "plt.xlim([-0.5,0.5])\n",
    "plt.ylim([-y_max,y_max])\n",
    "ax1.set_ylabel(r'$\\mathrm{\\sigma_{xx, xy}~({\\rm e^2/h}})$')\n",
    "ax1.set_xlabel(r'$E~({\\rm eV})$')\n",
    "\n",
    "ax2 = ax1.twinx()  # instantiate a second axes that shares the same x-axis\n",
    "ax2.plot(dos_raw[:,0], dos_raw[:,1], c='C1')\n",
    "ax2.set_ylim([0, 0.02])\n",
    "plt.sca(ax2)\n",
    "ax2.tick_params(axis='y', labelcolor='C1')\n",
    "ax2.set_ylabel(r'$\\mathrm{DOS~(a.u.)}$')"
   ]
  }
 ],
 "metadata": {
  "kernelspec": {
   "display_name": "Python 3",
   "language": "python",
   "name": "python3"
  },
  "language_info": {
   "codemirror_mode": {
    "name": "ipython",
    "version": 3
   },
   "file_extension": ".py",
   "mimetype": "text/x-python",
   "name": "python",
   "nbconvert_exporter": "python",
   "pygments_lexer": "ipython3",
   "version": "3.8.3"
  }
 },
 "nbformat": 4,
 "nbformat_minor": 1
}
