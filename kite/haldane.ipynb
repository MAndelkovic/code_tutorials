{
 "cells": [
  {
   "cell_type": "markdown",
   "metadata": {},
   "source": [
    "# Paper tutorial"
   ]
  },
  {
   "cell_type": "code",
   "execution_count": null,
   "metadata": {},
   "outputs": [],
   "source": [
    "import pybinding as pb\n",
    "import matplotlib.pyplot as plt\n",
    "import numpy as np\n",
    "import scipy\n",
    "import os\n",
    "import shutil\n",
    "import subprocess\n",
    "import kite\n",
    "from matplotlib import gridspec\n",
    "\n",
    "pb.pltutils.use_style()"
   ]
  },
  {
   "cell_type": "markdown",
   "metadata": {
    "pycharm": {
     "name": "#%% md\n"
    }
   },
   "source": [
    "# Haldane model"
   ]
  },
  {
   "cell_type": "code",
   "execution_count": null,
   "metadata": {
    "pycharm": {
     "name": "#%%\n"
    }
   },
   "outputs": [],
   "source": [
    "from math import sqrt\n",
    "\n",
    "a = 0.24595  # [nm] unit cell length\n",
    "a_cc = 0.142 # [nm] carbon-carbon distance\n",
    "def haldane(t=1, t_nn=1 / 3, phi=0.,delta=0.):\n",
    "    \"\"\"Return the lattice specification for Haldane model\"\"\"\n",
    "\n",
    "    a = a_cc * sqrt(3)\n",
    "    lat = pb.Lattice(a1=[a, 0], a2=[a / 2, a / 2 * sqrt(3)])\n",
    "\n",
    "    # The next-nearest hoppings shift the Dirac point away from zero energy.\n",
    "    # This will push it back to zero for consistency with the first-nearest model.\n",
    "\n",
    "    lat.add_sublattices(\n",
    "        ('A', [0, -a_cc / 2], delta),\n",
    "        ('B', [0, a_cc / 2], -delta)\n",
    "    )\n",
    "\n",
    "    lat.add_hoppings(\n",
    "        ([0, 0], 'A', 'B', t),\n",
    "        ([1, -1], 'A', 'B', t),\n",
    "        ([0, -1], 'A', 'B', t),\n",
    "        ([0, 1], 'A', 'A', t_nn * np.exp(-1j * phi)),\n",
    "        ([0, 1], 'B', 'B', t_nn * np.exp(1j * phi)),\n",
    "        ([1, -1], 'A', 'A', t_nn * np.exp(-1j * phi)),\n",
    "        ([1, -1], 'B', 'B', t_nn * np.exp(1j * phi)),\n",
    "        ([1, 0], 'A', 'A', t_nn * np.exp(1j * phi)),\n",
    "        ([1, 0], 'B', 'B', t_nn * np.exp(-1j * phi))\n",
    "    )\n",
    "\n",
    "    return lat\n",
    "\n",
    "\n",
    "# make a haldane lattice\n",
    "t = 1\n",
    "t_nn = 1/3\n",
    "from math import pi\n",
    "lattice = haldane(t=t, t_nn=t_nn, phi=pi * 0.5, delta=2 * t_nn)\n",
    "# add Uniformly distributed disorder\n",
    "disorder = kite.Disorder(lattice)\n",
    "dis_std = 0.4\n",
    "disorder.add_disorder('A', 'Uniform', +0.0, dis_std)\n",
    "disorder.add_disorder('B', 'Uniform', +0.0, dis_std)\n",
    "# number of decomposition parts in each direction of matrix.\n",
    "# This divides the lattice into various sections, each of which is calculated in parallel\n",
    "domain_decompose_1 = 2\n",
    "domain_decompose_2 = 1\n",
    "# number of unit cells in each direction.\n",
    "lx = 256\n",
    "ly = 256\n",
    "\n",
    "num_moments = 256\n",
    "configuration = kite.Configuration(divisions=[domain_decompose_1, domain_decompose_2],\n",
    "                                   length=[lx, ly], boundaries=[True, True],\n",
    "                                   is_complex=True, precision=0, spectrum_range=[-3.8, 3.8])\n",
    "calculation = kite.Calculation(configuration)\n",
    "\n",
    "# require the calculation of DOS and conductivity_dc\n",
    "direction = 'xy'\n",
    "num_random = 1\n",
    "calculation.dos(num_points=1000, num_moments=num_moments, num_random=num_random, num_disorder=1)\n",
    "calculation.conductivity_dc(num_points=1000, num_moments=num_moments, num_random=num_random, num_disorder=1,\n",
    "                            direction=direction, temperature=1)\n",
    "# configure the *.h5 file\n",
    "name = 'haldane_topol_{}_dis_std_{}_moments_{}_random_{}_lx_{}_ly_{}.h5'\n",
    "full_name = name.format(direction, dis_std, num_moments, num_random, lx, ly)\n",
    "kite.config_system(lattice, configuration, calculation, disorder=disorder, filename=full_name)"
   ]
  },
  {
   "cell_type": "code",
   "execution_count": null,
   "metadata": {
    "pycharm": {
     "is_executing": true,
     "name": "#%%\n"
    }
   },
   "outputs": [],
   "source": [
    "pb.utils.tic()  # measure the time\n",
    "kite.KITEx(full_name)\n",
    "pb.utils.toc('Time for moments calculation ')\n",
    "\n",
    "pb.utils.tic()  # measure the time\n",
    "kite.KITEtools(full_name + ' --CondDC -T 50 -F -3 3 10000 -E 4000 -K green 0.01 -N condDC_haldane_{}.dat'.format(direction))\n",
    "kite.KITEtools(full_name + ' --DOS -F -3 3 100 -K green 0.01 -N dos_haldane.dat')\n",
    "pb.utils.toc('Time for reconstructing ')"
   ]
  },
  {
   "cell_type": "code",
   "execution_count": null,
   "metadata": {
    "pycharm": {
     "name": "#%%\n"
    }
   },
   "outputs": [],
   "source": [
    "cond_raw = np.loadtxt('condDC_haldane_{}.dat'.format(direction))\n",
    "dos_raw = np.loadtxt('dos_haldane.dat')\n",
    "\n",
    "plt.figure()\n",
    "ax1 = plt.gca()\n",
    "ax1.plot(cond_raw[:,0], cond_raw[:,1])\n",
    "ax1.set_xlabel(r'$\\mathrm{E~(eV)}$')\n",
    "ax1.set_ylabel(r'$\\mathrm{\\sigma_{xx}~(e^2/h)}$')\n",
    "\n",
    "ax2 = ax1.twinx()  # instantiate a second axes that shares the same x-axis\n",
    "ax2.plot(dos_raw[:,0], dos_raw[:,1], c='C1')\n",
    "plt.sca(ax2)\n",
    "ax2.tick_params(axis='y', labelcolor='C1')\n",
    "ax2.set_ylabel(r'$\\mathrm{DOS~(a.u.)}$')"
   ]
  },
  {
   "cell_type": "code",
   "execution_count": null,
   "metadata": {},
   "outputs": [],
   "source": []
  }
 ],
 "metadata": {
  "kernelspec": {
   "display_name": "Python 3",
   "language": "python",
   "name": "python3"
  },
  "language_info": {
   "codemirror_mode": {
    "name": "ipython",
    "version": 3
   },
   "file_extension": ".py",
   "mimetype": "text/x-python",
   "name": "python",
   "nbconvert_exporter": "python",
   "pygments_lexer": "ipython3",
   "version": "3.8.3"
  }
 },
 "nbformat": 4,
 "nbformat_minor": 1
}
